{
 "cells": [
  {
   "cell_type": "code",
   "execution_count": null,
   "metadata": {},
   "outputs": [],
   "source": [
    "!pip install -U git+https://github.com/nltk/nltk.git@model\n",
    "!pip install javalang"
   ]
  },
  {
   "cell_type": "code",
   "execution_count": 34,
   "metadata": {},
   "outputs": [],
   "source": [
    "import os\n",
    "import glob\n",
    "from tqdm import tqdm_notebook\n",
    "import javalang\n",
    "from nltk.model.ngram import LidstoneNgramModel\n",
    "from nltk.model.counter import NgramModelVocabulary\n",
    "from nltk.model.counter import NgramCounter\n",
    "import matplotlib.pyplot as plt\n",
    "import random"
   ]
  },
  {
   "cell_type": "code",
   "execution_count": 2,
   "metadata": {},
   "outputs": [],
   "source": [
    "GLOBAL_TIME = '2016-12-01'\n",
    "path = 'elasticsearch/'"
   ]
  },
  {
   "cell_type": "code",
   "execution_count": 3,
   "metadata": {},
   "outputs": [
    {
     "data": {
      "text/plain": [
       "0"
      ]
     },
     "execution_count": 3,
     "metadata": {},
     "output_type": "execute_result"
    }
   ],
   "source": [
    "cmd = 'cd {path}; git checkout `git rev-list -n 1 --before=\"{time}\" master`'.format(\n",
    "        path=path, \n",
    "        time=str(GLOBAL_TIME))\n",
    "os.system(cmd)\n"
   ]
  },
  {
   "cell_type": "code",
   "execution_count": 7,
   "metadata": {},
   "outputs": [],
   "source": [
    "class RepoLanguageModel:\n",
    "    \n",
    "    def __init__(self,path):        \n",
    "        self.path = path\n",
    "        self.corpus = []\n",
    "        \n",
    "    def get_all_repo_files(self):\n",
    "        \n",
    "        files = []\n",
    "        for filename in glob.iglob(self.path + '**/*.java', recursive=True):\n",
    "            files.append(filename)\n",
    "        return files\n",
    "        \n",
    "    def create_corpus(self, files):\n",
    "        \n",
    "        parsed_files = []\n",
    "        \n",
    "        print('Bad files: ')\n",
    "        for filename in tqdm_notebook(files):\n",
    "            with open(filename, 'r') as file:\n",
    "                text = file.read()            \n",
    "                stoptrans = str.maketrans('', '', '#\\'`\\\\\"')\n",
    "                try:\n",
    "                    parsed_files.append([t.value for t in javalang.tokenizer.tokenize(text.translate(stoptrans))])\n",
    "                except:\n",
    "                    print(filename)\n",
    "                    \n",
    "        corpus = []\n",
    "        for file in tqdm_notebook(parsed_files):\n",
    "            line = []\n",
    "            for i in range(len(file)):\n",
    "                if file[i] != ';':\n",
    "                    line.append(file[i])\n",
    "                else:\n",
    "                    corpus.append(line)\n",
    "                    line = []\n",
    "        self.corpus = [s for s in corpus if len(s) > 0 and s[0]!= '*']\n",
    "        self.vocabulary = NgramModelVocabulary(1, [j for i in corpus for j in i])\n",
    "        return \n",
    "    "
   ]
  },
  {
   "cell_type": "code",
   "execution_count": 18,
   "metadata": {},
   "outputs": [
    {
     "name": "stdout",
     "output_type": "stream",
     "text": [
      "Bad files: \n"
     ]
    },
    {
     "data": {
      "application/vnd.jupyter.widget-view+json": {
       "model_id": "04ab1237c34445c1bccc7b56b90c05ff",
       "version_major": 2,
       "version_minor": 0
      },
      "text/html": [
       "<p>Failed to display Jupyter Widget of type <code>HBox</code>.</p>\n",
       "<p>\n",
       "  If you're reading this message in the Jupyter Notebook or JupyterLab Notebook, it may mean\n",
       "  that the widgets JavaScript is still loading. If this message persists, it\n",
       "  likely means that the widgets JavaScript library is either not installed or\n",
       "  not enabled. See the <a href=\"https://ipywidgets.readthedocs.io/en/stable/user_install.html\">Jupyter\n",
       "  Widgets Documentation</a> for setup instructions.\n",
       "</p>\n",
       "<p>\n",
       "  If you're reading this message in another frontend (for example, a static\n",
       "  rendering on GitHub or <a href=\"https://nbviewer.jupyter.org/\">NBViewer</a>),\n",
       "  it may mean that your frontend doesn't currently support widgets.\n",
       "</p>\n"
      ],
      "text/plain": [
       "HBox(children=(IntProgress(value=0, max=5023), HTML(value='')))"
      ]
     },
     "metadata": {},
     "output_type": "display_data"
    },
    {
     "name": "stdout",
     "output_type": "stream",
     "text": [
      "elasticsearch/core/src/test/java/org/elasticsearch/index/analysis/CJKFilterFactoryTests.java\n",
      "elasticsearch/core/src/test/java/org/elasticsearch/index/analysis/CharMatcherTests.java\n",
      "elasticsearch/core/src/test/java/org/elasticsearch/common/network/InetAddressesTests.java\n",
      "elasticsearch/core/src/test/java/org/elasticsearch/search/suggest/SuggestSearchIT.java\n",
      "elasticsearch/core/src/main/java/org/elasticsearch/index/translog/TranslogReader.java\n",
      "elasticsearch/modules/ingest-common/src/test/java/org/elasticsearch/ingest/common/GrokTests.java\n",
      "elasticsearch/plugins/analysis-kuromoji/src/test/java/org/elasticsearch/index/analysis/KuromojiAnalysisTests.java\n",
      "elasticsearch/plugins/analysis-icu/src/test/java/org/elasticsearch/index/analysis/SimpleIcuNormalizerCharFilterTests.java\n",
      "\n"
     ]
    },
    {
     "data": {
      "application/vnd.jupyter.widget-view+json": {
       "model_id": "fe3512e5511a4df6a0aac25e87b5535a",
       "version_major": 2,
       "version_minor": 0
      },
      "text/html": [
       "<p>Failed to display Jupyter Widget of type <code>HBox</code>.</p>\n",
       "<p>\n",
       "  If you're reading this message in the Jupyter Notebook or JupyterLab Notebook, it may mean\n",
       "  that the widgets JavaScript is still loading. If this message persists, it\n",
       "  likely means that the widgets JavaScript library is either not installed or\n",
       "  not enabled. See the <a href=\"https://ipywidgets.readthedocs.io/en/stable/user_install.html\">Jupyter\n",
       "  Widgets Documentation</a> for setup instructions.\n",
       "</p>\n",
       "<p>\n",
       "  If you're reading this message in another frontend (for example, a static\n",
       "  rendering on GitHub or <a href=\"https://nbviewer.jupyter.org/\">NBViewer</a>),\n",
       "  it may mean that your frontend doesn't currently support widgets.\n",
       "</p>\n"
      ],
      "text/plain": [
       "HBox(children=(IntProgress(value=0, max=5015), HTML(value='')))"
      ]
     },
     "metadata": {},
     "output_type": "display_data"
    },
    {
     "name": "stdout",
     "output_type": "stream",
     "text": [
      "\n"
     ]
    }
   ],
   "source": [
    "rlm = RepoLanguageModel(path)\n",
    "\n",
    "rlm.create_corpus(rlm.get_all_repo_files())"
   ]
  },
  {
   "cell_type": "code",
   "execution_count": 21,
   "metadata": {},
   "outputs": [],
   "source": [
    "rlm.ngrams = NgramCounter(5, rlm.vocabulary)\n",
    "rlm.ngrams.train_counts(rlm.corpus)"
   ]
  },
  {
   "cell_type": "code",
   "execution_count": 22,
   "metadata": {},
   "outputs": [],
   "source": [
    "model = LidstoneNgramModel(0.9, rlm.ngrams)"
   ]
  },
  {
   "cell_type": "code",
   "execution_count": 23,
   "metadata": {},
   "outputs": [],
   "source": [
    "stoptrans = str.maketrans('', '', '#\\'`\\\\\"')"
   ]
  },
  {
   "cell_type": "code",
   "execution_count": 24,
   "metadata": {},
   "outputs": [
    {
     "name": "stdout",
     "output_type": "stream",
     "text": [
      "GLOBAL_DELETED_parsed: 15561\n"
     ]
    }
   ],
   "source": [
    "GLOBAL_DELETED_parsed = []\n",
    "with open('GLOBAL_DELETED_' + GLOBAL_TIME) as file:\n",
    "    for d in file.readlines():\n",
    "        d = d.strip('\\n')\n",
    "        try:\n",
    "            GLOBAL_DELETED_parsed.append([t.value for t in javalang.tokenizer.tokenize(d.translate(stoptrans))])\n",
    "        except:\n",
    "            pass\n",
    "print('GLOBAL_DELETED_parsed:', len(GLOBAL_DELETED_parsed))"
   ]
  },
  {
   "cell_type": "code",
   "execution_count": 25,
   "metadata": {},
   "outputs": [
    {
     "name": "stdout",
     "output_type": "stream",
     "text": [
      "GLOBAL_ADDED_parsed: 55811\n"
     ]
    }
   ],
   "source": [
    "GLOBAL_ADDED_parsed = []\n",
    "with open('GLOBAL_ADDED_' + GLOBAL_TIME) as file:\n",
    "    for d in file.readlines():\n",
    "        d = d.strip('\\n')\n",
    "        try:\n",
    "            GLOBAL_ADDED_parsed.append([t.value for t in javalang.tokenizer.tokenize(d.translate(stoptrans))])\n",
    "        except:\n",
    "            pass\n",
    "print('GLOBAL_ADDED_parsed:', len(GLOBAL_ADDED_parsed))"
   ]
  },
  {
   "cell_type": "code",
   "execution_count": 26,
   "metadata": {},
   "outputs": [],
   "source": [
    "entropy_deleted = [model.entropy(line) for line in GLOBAL_DELETED_parsed if len(line) > 0 and line[0] != '*']\n",
    "entropy_added = [model.entropy(line) for line in GLOBAL_ADDED_parsed  if len(line) > 0 and line[0] != '*']"
   ]
  },
  {
   "cell_type": "code",
   "execution_count": 35,
   "metadata": {},
   "outputs": [
    {
     "data": {
      "image/png": "[encoded data removed]",
      "text/plain": [
       "<matplotlib.figure.Figure at 0x7f397d518908>"
      ]
     },
     "metadata": {},
     "output_type": "display_data"
    }
   ],
   "source": [
    "obj = plt.hist(entropy_added, bins = 100)\n",
    "plt.xlabel('Энтропия добавленных строчек')\n",
    "#plt.savefig('entropy_added.png', dpi=400)\n",
    "plt.show()"
   ]
  },
  {
   "cell_type": "code",
   "execution_count": 36,
   "metadata": {},
   "outputs": [
    {
     "data": {
      "image/png": "[encoded data removed]",
      "text/plain": [
       "<matplotlib.figure.Figure at 0x7f397d518588>"
      ]
     },
     "metadata": {},
     "output_type": "display_data"
    }
   ],
   "source": [
    "obj = plt.hist(entropy_added, bins = 100)\n",
    "plt.xlabel('Энтропия добавленных строчек')\n",
    "#plt.savefig('entropy_added.png', dpi=400)\n",
    "plt.show()"
   ]
  },
  {
   "cell_type": "code",
   "execution_count": 37,
   "metadata": {},
   "outputs": [
    {
     "data": {
      "image/png": "[encoded data removed]",
      "text/plain": [
       "<matplotlib.figure.Figure at 0x7f397d3674e0>"
      ]
     },
     "metadata": {},
     "output_type": "display_data"
    }
   ],
   "source": [
    "obj = plt.hist(entropy_deleted, bins = 100)\n",
    "plt.xlabel('Энтропия удаленных строчек')\n",
    "#plt.savefig('entropy_deleted.png', dpi=400)\n",
    "plt.show()"
   ]
  },
  {
   "cell_type": "code",
   "execution_count": 38,
   "metadata": {},
   "outputs": [
    {
     "data": {
      "image/png": "[encoded data removed]",
      "text/plain": [
       "<matplotlib.figure.Figure at 0x7f397d13c780>"
      ]
     },
     "metadata": {},
     "output_type": "display_data"
    }
   ],
   "source": [
    "obj = plt.hist(entropy_deleted, bins = 100)\n",
    "plt.xlabel('Энтропия удаленных строчек')\n",
    "#plt.savefig('entropy_deleted.png', dpi=400)\n",
    "plt.show()"
   ]
  },
  {
   "cell_type": "code",
   "execution_count": 39,
   "metadata": {},
   "outputs": [],
   "source": [
    "sample_from_corpus = random.sample(rlm.corpus, 50000)\n",
    "entropy_all = [model.entropy(line) for line in sample_from_corpus if len(line) > 0 and line[0] != '*']"
   ]
  },
  {
   "cell_type": "code",
   "execution_count": 40,
   "metadata": {},
   "outputs": [
    {
     "data": {
      "image/png": "[encoded data removed]",
      "text/plain": [
       "<matplotlib.figure.Figure at 0x7f397d518c88>"
      ]
     },
     "metadata": {},
     "output_type": "display_data"
    }
   ],
   "source": [
    "obj = plt.hist(entropy_all, bins = 100)\n",
    "plt.xlabel('Энтропия случайной выборки')\n",
    "#plt.savefig('entropy_random_sample.png', dpi=400)\n",
    "plt.show()"
   ]
  },
  {
   "cell_type": "code",
   "execution_count": 41,
   "metadata": {},
   "outputs": [
    {
     "data": {
      "image/png": "[encoded data removed]",
      "text/plain": [
       "<matplotlib.figure.Figure at 0x7f397cdc25f8>"
      ]
     },
     "metadata": {},
     "output_type": "display_data"
    }
   ],
   "source": [
    "obj = plt.hist(entropy_all, bins = 100)\n",
    "plt.xlabel('Энтропия случайной выборки')\n",
    "#plt.savefig('entropy_random_sample.png', dpi=400)\n",
    "plt.show()"
   ]
  },
  {
   "cell_type": "code",
   "execution_count": null,
   "metadata": {},
   "outputs": [],
   "source": []
  },
  {
   "cell_type": "code",
   "execution_count": null,
   "metadata": {},
   "outputs": [],
   "source": []
  }
 ],
 "metadata": {
  "kernelspec": {
   "display_name": "Python 3",
   "language": "python",
   "name": "python3"
  },
  "language_info": {
   "codemirror_mode": {
    "name": "ipython",
    "version": 3
   },
   "file_extension": ".py",
   "mimetype": "text/x-python",
   "name": "python",
   "nbconvert_exporter": "python",
   "pygments_lexer": "ipython3",
   "version": "3.6.4"
  }
 },
 "nbformat": 4,
 "nbformat_minor": 2
}

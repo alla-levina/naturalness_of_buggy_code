{
 "cells": [
  {
   "cell_type": "code",
   "execution_count": 1,
   "metadata": {},
   "outputs": [
    {
     "name": "stdout",
     "output_type": "stream",
     "text": [
      "Requirement already satisfied: gitpython in /opt/conda/lib/python3.6/site-packages\r\n",
      "Requirement already satisfied: gitdb2>=2.0.0 in /opt/conda/lib/python3.6/site-packages (from gitpython)\r\n",
      "Requirement already satisfied: smmap2>=2.0.0 in /opt/conda/lib/python3.6/site-packages (from gitdb2>=2.0.0->gitpython)\r\n"
     ]
    }
   ],
   "source": [
    "!pip install gitpython"
   ]
  },
  {
   "cell_type": "code",
   "execution_count": 2,
   "metadata": {},
   "outputs": [],
   "source": [
    "import git\n",
    "from tqdm import tqdm_notebook\n",
    "import datetime as dt\n",
    "import os\n",
    "import re\n",
    "import matplotlib.pyplot as plt\n",
    "import datetime\n",
    "import random\n",
    "%matplotlib inline"
   ]
  },
  {
   "cell_type": "code",
   "execution_count": 4,
   "metadata": {},
   "outputs": [
    {
     "name": "stdout",
     "output_type": "stream",
     "text": [
      "Cloning into 'elasticsearch'...\n",
      "remote: Counting objects: 923645, done.\u001b[K\n",
      "remote: Compressing objects: 100% (566/566), done.\u001b[K\n",
      "remote: Total 923645 (delta 382), reused 405 (delta 170), pack-reused 922831\u001b[K\n",
      "Receiving objects: 100% (923645/923645), 390.38 MiB | 22.53 MiB/s, done.\n",
      "Resolving deltas: 100% (502704/502704), done.\n",
      "Checking connectivity... done.\n"
     ]
    }
   ],
   "source": [
    "! git clone https://github.com/elastic/elasticsearch.git"
   ]
  },
  {
   "cell_type": "code",
   "execution_count": 5,
   "metadata": {},
   "outputs": [],
   "source": [
    "path = 'elasticsearch/'"
   ]
  },
  {
   "cell_type": "code",
   "execution_count": 6,
   "metadata": {},
   "outputs": [],
   "source": [
    "class DiffObj:\n",
    "    def __init__(self, diff):\n",
    "        if diff[1].startswith('deleted'):\n",
    "            self.mode = 'deleted'\n",
    "            shift = 1\n",
    "        elif diff[1].startswith('new'):\n",
    "            self.mode = 'created'\n",
    "            shift = 1\n",
    "        else:\n",
    "            self.mode = 'modificated'\n",
    "            shift = 0\n",
    "        self.index = diff[1 + shift][6:]\n",
    "        self.file_old = diff[2 + shift][6:]\n",
    "        self.file_new = diff[3 + shift][6:]\n",
    "        lines = re.findall(r'@@.+@@', diff[4 + shift])[0][4:-3].split()\n",
    "        self.range_minus, self.range_plus = lines[0], lines[1][1:]\n",
    "        self.plus = [l[1:] for l in diff[(5 + shift):] if l[0] == '+']\n",
    "        self.minus = [l[1:] for l in diff[(5 + shift):] if l[0] == '-']\n",
    "        self.diff = diff\n",
    "\n"
   ]
  },
  {
   "cell_type": "code",
   "execution_count": 7,
   "metadata": {},
   "outputs": [],
   "source": [
    "repo = git.Repo(path)"
   ]
  },
  {
   "cell_type": "code",
   "execution_count": 8,
   "metadata": {},
   "outputs": [],
   "source": [
    "key_words = ['error', 'bug', 'fix', 'issue', 'mistake', 'incorrect', 'fault', 'defect', 'flaw', 'type']"
   ]
  },
  {
   "cell_type": "code",
   "execution_count": 9,
   "metadata": {},
   "outputs": [],
   "source": [
    "commit = list(repo.iter_commits())[0]"
   ]
  },
  {
   "cell_type": "code",
   "execution_count": 10,
   "metadata": {},
   "outputs": [
    {
     "data": {
      "application/vnd.jupyter.widget-view+json": {
       "model_id": "fdb3cac6c7264601a0ad29c963d1920a",
       "version_major": 2,
       "version_minor": 0
      },
      "text/html": [
       "<p>Failed to display Jupyter Widget of type <code>HBox</code>.</p>\n",
       "<p>\n",
       "  If you're reading this message in the Jupyter Notebook or JupyterLab Notebook, it may mean\n",
       "  that the widgets JavaScript is still loading. If this message persists, it\n",
       "  likely means that the widgets JavaScript library is either not installed or\n",
       "  not enabled. See the <a href=\"https://ipywidgets.readthedocs.io/en/stable/user_install.html\">Jupyter\n",
       "  Widgets Documentation</a> for setup instructions.\n",
       "</p>\n",
       "<p>\n",
       "  If you're reading this message in another frontend (for example, a static\n",
       "  rendering on GitHub or <a href=\"https://nbviewer.jupyter.org/\">NBViewer</a>),\n",
       "  it may mean that your frontend doesn't currently support widgets.\n",
       "</p>\n"
      ],
      "text/plain": [
       "HBox(children=(IntProgress(value=1, bar_style='info', max=1), HTML(value='')))"
      ]
     },
     "metadata": {},
     "output_type": "display_data"
    },
    {
     "name": "stdout",
     "output_type": "stream",
     "text": [
      "\n",
      "all_commints: 30515\n",
      "bug_commints: 7120\n"
     ]
    }
   ],
   "source": [
    "all_commits = []\n",
    "bug_commits = []\n",
    "for commit in tqdm_notebook(repo.iter_commits()):\n",
    "    all_commits.append(commit)\n",
    "    try:\n",
    "        if any([word in commit.message for word in key_words]):\n",
    "            bug_commits.append(commit)\n",
    "    except:\n",
    "        print(commit.message)\n",
    "print('all_commints:', len(all_commits))\n",
    "print('bug_commints:', len(bug_commits))"
   ]
  },
  {
   "cell_type": "code",
   "execution_count": 11,
   "metadata": {},
   "outputs": [],
   "source": [
    "years = [commit.committed_datetime.year for commit in bug_commits]"
   ]
  },
  {
   "cell_type": "code",
   "execution_count": 12,
   "metadata": {},
   "outputs": [
    {
     "data": {
      "image/png": "[encoded data removed]",
      "text/plain": [
       "<matplotlib.figure.Figure at 0x7f74be8359e8>"
      ]
     },
     "metadata": {},
     "output_type": "display_data"
    }
   ],
   "source": [
    "obj = plt.hist(years)\n",
    "plt.savefig('commits_per_day.png', dpi=400)"
   ]
  },
  {
   "cell_type": "code",
   "execution_count": 13,
   "metadata": {},
   "outputs": [],
   "source": [
    "date_range = [dt.date(2016, i, 1) for i in range(1, 13)] + [dt.date(2017,1, 1) ]"
   ]
  },
  {
   "cell_type": "code",
   "execution_count": 14,
   "metadata": {},
   "outputs": [
    {
     "name": "stdout",
     "output_type": "stream",
     "text": [
      "2016-02-01\n",
      "2016-03-01\n",
      "2016-04-01\n",
      "2016-05-01\n",
      "2016-06-01\n",
      "2016-07-01\n",
      "2016-08-01\n",
      "2016-09-01\n",
      "2016-10-01\n",
      "2016-11-01\n",
      "2016-12-01\n",
      "2017-01-01\n"
     ]
    }
   ],
   "source": [
    "commit_by_month = []\n",
    "for i in range(0, 12):\n",
    "    print(date_range[i+1])\n",
    "    commit_by_month.append([commit for commit in  bug_commits if ((commit.committed_datetime.date() < date_range[i+1]) and (commit.committed_datetime.date() > date_range[i]))])"
   ]
  },
  {
   "cell_type": "code",
   "execution_count": 15,
   "metadata": {},
   "outputs": [
    {
     "data": {
      "text/plain": [
       "0"
      ]
     },
     "execution_count": 15,
     "metadata": {},
     "output_type": "execute_result"
    }
   ],
   "source": [
    "cmd = 'cd {path}; git checkout master'.format(path=path)\n",
    "os.system(cmd)"
   ]
  },
  {
   "cell_type": "code",
   "execution_count": 16,
   "metadata": {},
   "outputs": [],
   "source": [
    "GLOBAL_DELETED = []\n",
    "GLOBAL_TIME = date_range[-2]"
   ]
  },
  {
   "cell_type": "code",
   "execution_count": 17,
   "metadata": {},
   "outputs": [],
   "source": [
    "wtf_commits = []"
   ]
  },
  {
   "cell_type": "code",
   "execution_count": 18,
   "metadata": {},
   "outputs": [
    {
     "data": {
      "application/vnd.jupyter.widget-view+json": {
       "model_id": "3614b9bfe7e8488fb8c9b85a35432e82",
       "version_major": 2,
       "version_minor": 0
      },
      "text/html": [
       "<p>Failed to display Jupyter Widget of type <code>HBox</code>.</p>\n",
       "<p>\n",
       "  If you're reading this message in the Jupyter Notebook or JupyterLab Notebook, it may mean\n",
       "  that the widgets JavaScript is still loading. If this message persists, it\n",
       "  likely means that the widgets JavaScript library is either not installed or\n",
       "  not enabled. See the <a href=\"https://ipywidgets.readthedocs.io/en/stable/user_install.html\">Jupyter\n",
       "  Widgets Documentation</a> for setup instructions.\n",
       "</p>\n",
       "<p>\n",
       "  If you're reading this message in another frontend (for example, a static\n",
       "  rendering on GitHub or <a href=\"https://nbviewer.jupyter.org/\">NBViewer</a>),\n",
       "  it may mean that your frontend doesn't currently support widgets.\n",
       "</p>\n"
      ],
      "text/plain": [
       "HBox(children=(IntProgress(value=0, max=109), HTML(value='')))"
      ]
     },
     "metadata": {},
     "output_type": "display_data"
    },
    {
     "name": "stdout",
     "output_type": "stream",
     "text": [
      "\n"
     ]
    }
   ],
   "source": [
    "for i in tqdm_notebook(range(len(commit_by_month[-1])-1)):\n",
    "    c0 = commit_by_month[-1][i]\n",
    "    c1 = commit_by_month[-1][i+1]\n",
    "\n",
    "    output = repo.git.diff(c1,c0).split('\\n')\n",
    "    diffs = []\n",
    "    diff_file = []\n",
    "    for l in output:\n",
    "        if l.startswith('diff'):\n",
    "            diffs.append(diff_file)\n",
    "            diff_file = []\n",
    "        diff_file.append(l)\n",
    "    diffs = diffs[1:]\n",
    "    try:\n",
    "        diffs = [DiffObj(diff) for diff in diffs]\n",
    "    except:\n",
    "        diffs = [0]\n",
    "    commit_date = c0.committed_datetime\n",
    "    \n",
    "    cmd = 'cd {path}; git checkout `git rev-list -n 1 --before=\"{time}\" master`'.format(\n",
    "                path=path, \n",
    "                time=str(commit_date - datetime.timedelta(minutes = 2)))\n",
    "    os.system(cmd)\n",
    "\n",
    "    \n",
    "    good = 0\n",
    "    bad = 0\n",
    "    for diff in diffs:\n",
    "        try:\n",
    "\n",
    "            blame = []\n",
    "            file = diff.file_old\n",
    "            cmd = 'cd {path};git blame -f {fname}'.format(\n",
    "                        path=path,\n",
    "                        fname=file)\n",
    "            with os.popen(cmd) as process:\n",
    "                blame = process.readlines()\n",
    "            code_time = dict()\n",
    "\n",
    "\n",
    "            for b in blame:\n",
    "                part1 = re.findall(r'.+\\.java +', b)[0]\n",
    "                part2 = re.findall(r'\\(.+?\\)', b)[0]\n",
    "                time = re.findall(r'\\d\\d\\d\\d-\\d\\d-\\d\\d \\d\\d:\\d\\d:\\d\\d', part2)[0]\n",
    "                time = datetime.datetime(int(time[0:4]), int(time[5:7]), int(time[8:10]), int(time[11:13]), int(time[14:16]), int(time[17:19]))\n",
    "                code = b[len(part1)+len(part2) +1:-1]\n",
    "                code_time[code] = time\n",
    "\n",
    "            for line in diff.minus:\n",
    "                good += 1\n",
    "                if line in code_time and( code_time[line].date() < GLOBAL_TIME):\n",
    "                    GLOBAL_DELETED.append(line)\n",
    "                else:\n",
    "                    bad += 1\n",
    "        except:\n",
    "            wtf_commits.append(c0)"
   ]
  },
  {
   "cell_type": "code",
   "execution_count": 19,
   "metadata": {},
   "outputs": [
    {
     "name": "stdout",
     "output_type": "stream",
     "text": [
      "GLOBAL_DELETED: 17440\n"
     ]
    }
   ],
   "source": [
    "print('GLOBAL_DELETED:', len(GLOBAL_DELETED))"
   ]
  },
  {
   "cell_type": "code",
   "execution_count": null,
   "metadata": {},
   "outputs": [],
   "source": []
  },
  {
   "cell_type": "code",
   "execution_count": 20,
   "metadata": {},
   "outputs": [],
   "source": [
    "with open('GLOBAL_DELETED_' + str(GLOBAL_TIME), 'w') as file:\n",
    "    for line in GLOBAL_DELETED:\n",
    "        file.write(line + '\\n')"
   ]
  },
  {
   "cell_type": "code",
   "execution_count": 21,
   "metadata": {},
   "outputs": [],
   "source": [
    "GLOBAL_ADDED = []"
   ]
  },
  {
   "cell_type": "code",
   "execution_count": 22,
   "metadata": {},
   "outputs": [
    {
     "data": {
      "application/vnd.jupyter.widget-view+json": {
       "model_id": "54ce2649379b44f79954cbe4626e3105",
       "version_major": 2,
       "version_minor": 0
      },
      "text/html": [
       "<p>Failed to display Jupyter Widget of type <code>HBox</code>.</p>\n",
       "<p>\n",
       "  If you're reading this message in the Jupyter Notebook or JupyterLab Notebook, it may mean\n",
       "  that the widgets JavaScript is still loading. If this message persists, it\n",
       "  likely means that the widgets JavaScript library is either not installed or\n",
       "  not enabled. See the <a href=\"https://ipywidgets.readthedocs.io/en/stable/user_install.html\">Jupyter\n",
       "  Widgets Documentation</a> for setup instructions.\n",
       "</p>\n",
       "<p>\n",
       "  If you're reading this message in another frontend (for example, a static\n",
       "  rendering on GitHub or <a href=\"https://nbviewer.jupyter.org/\">NBViewer</a>),\n",
       "  it may mean that your frontend doesn't currently support widgets.\n",
       "</p>\n"
      ],
      "text/plain": [
       "HBox(children=(IntProgress(value=0, max=109), HTML(value='')))"
      ]
     },
     "metadata": {},
     "output_type": "display_data"
    },
    {
     "name": "stdout",
     "output_type": "stream",
     "text": [
      "\n"
     ]
    }
   ],
   "source": [
    "for i in tqdm_notebook(range(len(commit_by_month[-1])-1)):\n",
    "    c0 = commit_by_month[-1][i]\n",
    "    c1 = commit_by_month[-1][i+1]\n",
    "\n",
    "    output = repo.git.diff(c1,c0).split('\\n')\n",
    "    diffs = []\n",
    "    diff_file = []\n",
    "    for l in output:\n",
    "        if l.startswith('diff'):\n",
    "            diffs.append(diff_file)\n",
    "            diff_file = []\n",
    "        diff_file.append(l)\n",
    "    diffs = diffs[1:]\n",
    "    try:\n",
    "        diffs = [DiffObj(diff) for diff in diffs]\n",
    "    except:\n",
    "        diffs = [0]\n",
    "    for diff in diffs:\n",
    "        try:\n",
    "            GLOBAL_ADDED.extend(diff.plus)\n",
    "        except:\n",
    "            pass"
   ]
  },
  {
   "cell_type": "code",
   "execution_count": 23,
   "metadata": {},
   "outputs": [
    {
     "name": "stdout",
     "output_type": "stream",
     "text": [
      "GLOBAL_ADDED: 62508\n"
     ]
    }
   ],
   "source": [
    "print('GLOBAL_ADDED:', len(GLOBAL_ADDED))"
   ]
  },
  {
   "cell_type": "code",
   "execution_count": 24,
   "metadata": {},
   "outputs": [],
   "source": [
    "with open('GLOBAL_ADDED_' + str(GLOBAL_TIME), 'w') as file:\n",
    "    for line in GLOBAL_ADDED:\n",
    "        file.write(line + '\\n')"
   ]
  },
  {
   "cell_type": "code",
   "execution_count": null,
   "metadata": {},
   "outputs": [],
   "source": []
  }
 ],
 "metadata": {
  "kernelspec": {
   "display_name": "Python 3",
   "language": "python",
   "name": "python3"
  },
  "language_info": {
   "codemirror_mode": {
    "name": "ipython",
    "version": 3
   },
   "file_extension": ".py",
   "mimetype": "text/x-python",
   "name": "python",
   "nbconvert_exporter": "python",
   "pygments_lexer": "ipython3",
   "version": "3.6.4"
  }
 },
 "nbformat": 4,
 "nbformat_minor": 2
}
